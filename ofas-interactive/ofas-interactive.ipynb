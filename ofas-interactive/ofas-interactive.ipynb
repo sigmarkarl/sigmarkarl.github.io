{
 "cells": [
  {
   "cell_type": "markdown",
   "metadata": {},
   "source": [
    "# Ofas Interactive Applications"
   ]
  },
  {
   "cell_type": "markdown",
   "metadata": {},
   "source": [
    "## Introduction\n",
    "\n",
    "An interactive Spark application is a long-running application which the user can interact with on runtime. This can be a notebook application or applications running Spark Connect or HiveThrift servers. Spark Connect supports languages such as Python, Scala and Go and potentially all languages supported by gRPC. The HiveThrift server offers SQL interaction through JDBC."
   ]
  },
  {
   "cell_type": "markdown",
   "metadata": {},
   "source": [
    "## Spark Connect\n",
    "In Apache Spark 3.4, Spark Connect introduced a decoupled client-server architecture that allows remote connectivity to Spark clusters using the DataFrame API and unresolved logical plans as the protocol. The separation between client and server allows Spark and its open ecosystem to be leveraged from everywhere. It can be embedded in modern data applications, in IDEs, Notebooks and programming languages."
   ]
  },
  {
   "cell_type": "markdown",
   "metadata": {},
   "source": [
    "### Server side\n",
    "To start a Spark application with SparkConnect server, either run the mainClass SparkConnectServer or enable the SparkConnect plugin. Using the Spark Connect plugin, the application can run other tasks or services while enabling Spark Connect."
   ]
  },
  {
   "cell_type": "markdown",
   "metadata": {},
   "source": [
    "#### Spark Connect launch using the SparkConnectServer\n",
    "```json\n",
    "\"mainClass\": \"org.apache.spark.connect.sql.service.SparkConnectServer\",\n",
    "\"deps\": {\n",
    "    \"packages\": [\"org.apache.spark:spark-connect_2.12:3.5.0\"]\n",
    "}\n",
    "```"
   ]
  },
  {
   "cell_type": "markdown",
   "metadata": {},
   "source": [
    "#### Spark Connect launch using the Spark Connect plugin\n",
    "```json\n",
    "\"sparkConf\": {\n",
    "    \"spark.plugins\": \"org.apache.spark.sql.connect.SparkConnectPlugin\"\n",
    "},\n",
    "\"deps\": {\n",
    "    \"packages\": [\"org.apache.spark:spark-connect_2.12:3.5.0\"]\n",
    "}\n",
    "```"
   ]
  },
  {
   "cell_type": "markdown",
   "metadata": {},
   "source": [
    "### Client side\n",
    "#### Python library\n",
    "On the client side use the ocean-spark-connect (https://pypi.org/project/ocean-spark-connect) python library to interact with the Spark Connect session"
   ]
  },
  {
   "cell_type": "markdown",
   "metadata": {},
   "source": [
    "```python\n",
    "from ocean_spark_connect.ocean_spark_session import OceanSparkSession\n",
    "\n",
    "spark = OceanSparkSession.Builder().cluster_id(\"osc-cluster\").appid(\"appid\").profile(\"default\").getOrCreate()\n",
    "spark.sql(\"select random()\").show()\n",
    "spark.stop()\n",
    "```"
   ]
  },
  {
   "cell_type": "markdown",
   "metadata": {},
   "source": [
    "#### Spotctl\n",
    "Use the spotctl command line tool to open a websocket proxy to the interactive Spark application"
   ]
  },
  {
   "cell_type": "markdown",
   "metadata": {},
   "source": [
    "```sh\n",
    "brew install spotinst/tap/spotctl\n",
    "spotctl configure\n",
    "```"
   ]
  },
  {
   "cell_type": "markdown",
   "metadata": {},
   "source": [
    "```sh\n",
    "spotctl ocean spark --clusterid osc-cluster --appid appid --profile default\n",
    "```"
   ]
  },
  {
   "cell_type": "markdown",
   "metadata": {},
   "source": [
    "spotctl will start a service on port 15002 (the default Spark Connect port)\n",
    "\n",
    "```sh\n",
    "pyspark --remote sc://localhost\n",
    "```"
   ]
  },
  {
   "cell_type": "markdown",
   "metadata": {},
   "source": [
    "### Example\n",
    "Start the application using Postman, from the console or the command line\n",
    "```sh\n",
    "curl -k -X POST 'https://api.spotinst.io/ocean/spark/cluster/{clusterId}/app?accountId={accountId}' -H 'Content-Type: application/json' -H 'Authorization: Bearer {token}' -d '\n",
    "```\n",
    "```json\n",
    "{ \n",
    "  \"jobId\": \"spark-connect\", \n",
    "  \"configOverrides\": { \n",
    "    \"mainClass\": \"org.apache.spark.connect.sql.service.SparkConnectServer\",\n",
    "    \"deps\": {\n",
    "        \"packages\": [\"org.apache.spark:spark-connect_2.12:3.5.0\"]\n",
    "    }\n",
    "  }\n",
    "}\n",
    "```"
   ]
  },
  {
   "cell_type": "markdown",
   "metadata": {},
   "source": [
    "## JDBC\n",
    "JDBC, or Java Database Connectivity, is an API used in Java programming to interact with databases. It provides a standard abstraction for Java applications to communicate with various databases1. JDBC allows applications to send requests made by users to the specified database1. It is used to write programs required to access databases. Apache Spark provides a JDBC interface throught the HiveThriftServer."
   ]
  },
  {
   "cell_type": "markdown",
   "metadata": {},
   "source": [
    "### Server side\n",
    "To enable JDBC connections to the Spark Application, start the HiveThriftServer"
   ]
  },
  {
   "cell_type": "markdown",
   "metadata": {},
   "source": [
    "#### Launch a JDBC server\n",
    "```json\n",
    "\"mainClass\": \"com.netapp.spark.HiveThriftServer\",\n",
    "\"deps\": {\n",
    "    \"packages\": [\"com.netapp.spark:hive:1.2.0\"],\n",
    "    \"repositories\": [\"https://us-central1-maven.pkg.dev/ocean-spark/spark-code-submission-plugin\"]\n",
    "}\n",
    "```"
   ]
  },
  {
   "cell_type": "markdown",
   "metadata": {},
   "source": [
    "### Client side"
   ]
  },
  {
   "cell_type": "markdown",
   "metadata": {},
   "source": [
    "#### Ofas JDBC driver\n",
    "Use the Ofas JDBC driver with database tool or in your code project. The driver available at the following maven coordinates\n",
    "```\n",
    "com.netapp.spark:ofas-jdbc:1.2.0\n",
    "```\n",
    "Use the following public maven repository\n",
    "```\n",
    "https://us-central1-maven.pkg.dev/ocean-spark/spark-code-submission-plugin\n",
    "```"
   ]
  },
  {
   "cell_type": "markdown",
   "metadata": {},
   "source": [
    "#### Spotctl\n",
    "Use the spotctl command line tool as above, with the port option, --port 10000 or --port hive\n",
    "```\n",
    "spotctl ocean spark --clusterid osc-cluster --appid appid --profile default --port hive\n",
    "```\n",
    "The user can now connect to the interactive Spark application through a Hive Thrift library or the Hive JDBC driver."
   ]
  }
 ],
 "metadata": {
  "language_info": {
   "name": "python"
  },
  "orig_nbformat": 4
 },
 "nbformat": 4,
 "nbformat_minor": 2
}
