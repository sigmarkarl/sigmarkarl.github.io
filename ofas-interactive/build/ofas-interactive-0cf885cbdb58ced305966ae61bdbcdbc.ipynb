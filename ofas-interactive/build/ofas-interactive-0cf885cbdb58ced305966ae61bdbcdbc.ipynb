{
 "cells": [
  {
   "cell_type": "markdown",
   "metadata": {},
   "source": [
    "# Ofas Interactive"
   ]
  },
  {
   "cell_type": "markdown",
   "metadata": {},
   "source": [
    "## Introduction\n",
    "\n",
    "One way of interacting with a long running Spark application in Ofas is to use notebooks. We also offer two interfaces namely the new Spark Connect and JDBC through the HiveThriftServer"
   ]
  }
 ],
 "metadata": {
  "language_info": {
   "name": "python"
  },
  "orig_nbformat": 4
 },
 "nbformat": 4,
 "nbformat_minor": 2
}
